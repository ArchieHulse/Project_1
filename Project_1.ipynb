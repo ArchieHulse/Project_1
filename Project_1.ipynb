{
 "cells": [
  {
   "attachments": {},
   "cell_type": "markdown",
   "metadata": {},
   "source": [
    "**Project_1**"
   ]
  },
  {
   "attachments": {},
   "cell_type": "markdown",
   "metadata": {},
   "source": [
    "Hypotheses drawn from the data set 'Attack':\n",
    "\n",
    "- There is a positive correlation between frequency of shark attacks and time\n",
    "- Most agressive species of shark is the Great White Shark and the most deadly species is also the Great White Shark\n",
    "- There is a higher liklyhood of attack whilst surfing than swimming"
   ]
  },
  {
   "cell_type": "code",
   "execution_count": 147,
   "metadata": {},
   "outputs": [
    {
     "data": {
      "text/plain": [
       "25723"
      ]
     },
     "execution_count": 147,
     "metadata": {},
     "output_type": "execute_result"
    }
   ],
   "source": [
    "import pandas as pd\n",
    "\n",
    "data = pd.read_csv('attacks.csv', encoding= 'unicode_escape')\n",
    "len(data)"
   ]
  },
  {
   "attachments": {},
   "cell_type": "markdown",
   "metadata": {},
   "source": [
    "**Data Cleaning & Wrangling:**"
   ]
  },
  {
   "cell_type": "code",
   "execution_count": 148,
   "metadata": {},
   "outputs": [
    {
     "name": "stdout",
     "output_type": "stream",
     "text": [
      "total duplicated rows removed = 19411\n"
     ]
    }
   ],
   "source": [
    "#check and show the data that has duplicate rows:\n",
    "print('total duplicated rows removed =', data.duplicated().sum())    #this is a data set of 25,000+ and 19,000+ rows are duplicates\n",
    "#majority of the values are null and therefore we will remove the duplicate data in the code below:\n",
    "data2 = data.drop_duplicates(inplace=False)\n",
    "data2.isnull().sum()     #can see here that after removing the duplicates, there is still null/NAN values present\n",
    "\n",
    "\n",
    "#removing all null or NAN values from 'Country', 'Species' and 'Activity' since my hypotheses are based on these vaiables\n",
    "#removing rows with null or NAN values in 'date' and 'year' columns, since these are defining variables for accurate and valid data\n",
    "data3 = data2.dropna(subset=[\"Country\", \"Date\", \"Year\", \"Species \", \"Activity\"])\n",
    "\n",
    "\n",
    "#now the data is cleaned from 25,000 to 3,200 rows I will remove columns that contain duplicates,\n",
    "#null values or are not integral to the data manipulation or hypotheses.\n",
    "data4 = data3.drop(columns=[\"href formula\", \"Name\", \"Case Number.2\", \"Case Number.1\", \"Injury\", \"pdf\", \"href\", \"Investigator or Source\", \"Location\", \"Time\", \"Unnamed: 22\", \"Unnamed: 23\"])\n",
    "\n",
    "def speciesshark (x):\n",
    "    ''' This function searches for keywords and returns the species'''\n",
    "    x=str(x).lower()\n",
    "    if 'white' in x:\n",
    "        return 'white shark'\n",
    "    elif 'tiger' in x:                       #cleaning data in 'Species' column since there were inaccurate recordings and we can group to a few species of shark\n",
    "        return 'tiger shark'\n",
    "    elif 'bull' in x:\n",
    "        return 'bull shark'\n",
    "    elif 'wobbegong'in x:\n",
    "        return 'wobbegong shark'\n",
    "    elif 'ham' in x:\n",
    "        return 'hammerhead shark'\n",
    "    elif 'confirma' in x or 'invalid' in x or 'quest' in x:\n",
    "        return'no shark involved'\n",
    "    \n",
    "    else:\n",
    "        return 'species not confirmed'\n",
    "def activities (x):\n",
    "    ''' This function receives a field, it searchs for different key words and returns the group it belongs'''\n",
    "    string = str(x).lower()\n",
    "    if 'swim' in string or 'bath' in string or 'div' in string or 'snork' in string or 'feed' in string or 'wading' in string or 'shark' in string or 'air' in string or 'wash' in string or 'walk' in string or 'floa' in string or 'tread' in string or 'water' in string or 'play' in string:\n",
    "        return 'swiming'\n",
    "    elif 'surf'  in string or 'board' in string:\n",
    "        return 'surfing'                                #cleaning data in 'Activity' column since there were inaccurate recordings and we can group to a few activities\n",
    "    elif 'fish' in string or 'stan' in string:\n",
    "        return 'fishing'\n",
    "    elif 'ship' in string or 'boat' in string or 'sail' in string or 'kaya' in string or 'cano' in string or 'adrift' in string or 'pad' in string or 'sunk' in string or 'yatch' in string or 'yacht' in string or 'row'in string or 'sink' in string or 'sea' in string or 'fell' in string or 'fall' in string:\n",
    "        return 'sailing'\n",
    "    else:\n",
    "        return 'others'\n",
    "#def fatalattack (x):\n",
    "    ''' This function looks for the exact match of the letters Y and N'''\n",
    "    x=str(x).upper()\n",
    "    match = re.match(r\"(^[N,Y]$)\",x)\n",
    "    if match:\n",
    "        fatalstr = (match.group(1))\n",
    "        return fatalstr\n",
    "    else:\n",
    "        return 'unknown'\n",
    "\n",
    "\n",
    "data4['Species '] = data4['Species '].apply(speciesshark)\n",
    "data4['Activity'] = data4['Activity'].apply(activities)\n",
    "\n",
    "\n",
    "is_not_shark_related = data4[data4['Species ']!='no shark involved']   #filterd out rows where sharks are not involved or the species is unknown\n",
    "only_species_known = is_not_shark_related[is_not_shark_related['Species ']!='species not confirmed'] \n",
    "\n",
    "#after removing rows of null values the index is now incorrect\n",
    "#code to reset index:\n",
    "only_species_known.reset_index(inplace=True)\n",
    "data5 = only_species_known.drop(columns=['index'])"
   ]
  },
  {
   "attachments": {},
   "cell_type": "markdown",
   "metadata": {},
   "source": [
    "**Data Manipulation:**"
   ]
  },
  {
   "cell_type": "code",
   "execution_count": 149,
   "metadata": {},
   "outputs": [
    {
     "name": "stdout",
     "output_type": "stream",
     "text": [
      "white shark\n",
      "white shark\n",
      "tiger shark\n"
     ]
    }
   ],
   "source": [
    "#MOST AGRESSIVE SHARK:\n",
    "print(data5['Species '].value_counts().idxmax())\n",
    "\n",
    "\n",
    "#MOST DEADLY SHARK:\n",
    "data5.rename(columns={'Fatal (Y/N)': 'Fatal'}, inplace=True, errors='raise')\n",
    "attacks_only_fatal = data5[data5.Fatal != 'N']\n",
    "print(attacks_only_fatal['Species '].value_counts().idxmax())\n",
    "#most deadly shark is unknown.\n",
    "\n",
    "\n",
    "#MOST DEADLY SHARK IN YEAR 2018:\n",
    "data_only_2018 = data5[data5.Year >2017]\n",
    "attacks_only_fatal = data_only_2018[data_only_2018.Fatal != 'N']\n",
    "print(attacks_only_fatal['Species '].value_counts().idxmax())"
   ]
  },
  {
   "cell_type": "code",
   "execution_count": 151,
   "metadata": {},
   "outputs": [
    {
     "ename": "TypeError",
     "evalue": "unhashable type: 'list'",
     "output_type": "error",
     "traceback": [
      "\u001b[0;31m---------------------------------------------------------------------------\u001b[0m",
      "\u001b[0;31mTypeError\u001b[0m                                 Traceback (most recent call last)",
      "\u001b[1;32m/Users/archiewilliamhulse/Projects/Project_1/Project_1.ipynb Cell 8\u001b[0m in \u001b[0;36m<cell line: 8>\u001b[0;34m()\u001b[0m\n\u001b[1;32m      <a href='vscode-notebook-cell:/Users/archiewilliamhulse/Projects/Project_1/Project_1.ipynb#X12sZmlsZQ%3D%3D?line=3'>4</a>\u001b[0m \u001b[39m#.crosstab\u001b[39;00m\n\u001b[1;32m      <a href='vscode-notebook-cell:/Users/archiewilliamhulse/Projects/Project_1/Project_1.ipynb#X12sZmlsZQ%3D%3D?line=5'>6</a>\u001b[0m data_merged \u001b[39m=\u001b[39m pd\u001b[39m.\u001b[39mmerge(data_yes, data_no, how\u001b[39m=\u001b[39m\u001b[39m'\u001b[39m\u001b[39mouter\u001b[39m\u001b[39m'\u001b[39m)\n\u001b[0;32m----> <a href='vscode-notebook-cell:/Users/archiewilliamhulse/Projects/Project_1/Project_1.ipynb#X12sZmlsZQ%3D%3D?line=7'>8</a>\u001b[0m data_probability \u001b[39m=\u001b[39m data_merged\u001b[39m.\u001b[39;49mgroupby([\u001b[39m'\u001b[39;49m\u001b[39mActivity\u001b[39;49m\u001b[39m'\u001b[39;49m], [\u001b[39m'\u001b[39;49m\u001b[39mFatal\u001b[39;49m\u001b[39m'\u001b[39;49m])\n\u001b[1;32m     <a href='vscode-notebook-cell:/Users/archiewilliamhulse/Projects/Project_1/Project_1.ipynb#X12sZmlsZQ%3D%3D?line=10'>11</a>\u001b[0m \u001b[39m#  surfing_fatal / surfing_not_fatal = 47/306 = 0.2\u001b[39;00m\n\u001b[1;32m     <a href='vscode-notebook-cell:/Users/archiewilliamhulse/Projects/Project_1/Project_1.ipynb#X12sZmlsZQ%3D%3D?line=11'>12</a>\u001b[0m \u001b[39m#  swimming_fatal / surfing_not_fatal = 155/338 = 0.5\u001b[39;00m\n\u001b[1;32m     <a href='vscode-notebook-cell:/Users/archiewilliamhulse/Projects/Project_1/Project_1.ipynb#X12sZmlsZQ%3D%3D?line=12'>13</a>\u001b[0m \n\u001b[1;32m     <a href='vscode-notebook-cell:/Users/archiewilliamhulse/Projects/Project_1/Project_1.ipynb#X12sZmlsZQ%3D%3D?line=13'>14</a>\u001b[0m \u001b[39m#  0.5/0.2 = 2.5x more likly to recive a fatal attack whilst swimming than surfing\u001b[39;00m\n\u001b[1;32m     <a href='vscode-notebook-cell:/Users/archiewilliamhulse/Projects/Project_1/Project_1.ipynb#X12sZmlsZQ%3D%3D?line=15'>16</a>\u001b[0m data_probability\n",
      "File \u001b[0;32m~/opt/anaconda3/envs/ironhack/lib/python3.9/site-packages/pandas/core/frame.py:7716\u001b[0m, in \u001b[0;36mDataFrame.groupby\u001b[0;34m(self, by, axis, level, as_index, sort, group_keys, squeeze, observed, dropna)\u001b[0m\n\u001b[1;32m   7714\u001b[0m \u001b[39mif\u001b[39;00m level \u001b[39mis\u001b[39;00m \u001b[39mNone\u001b[39;00m \u001b[39mand\u001b[39;00m by \u001b[39mis\u001b[39;00m \u001b[39mNone\u001b[39;00m:\n\u001b[1;32m   7715\u001b[0m     \u001b[39mraise\u001b[39;00m \u001b[39mTypeError\u001b[39;00m(\u001b[39m\"\u001b[39m\u001b[39mYou have to supply one of \u001b[39m\u001b[39m'\u001b[39m\u001b[39mby\u001b[39m\u001b[39m'\u001b[39m\u001b[39m and \u001b[39m\u001b[39m'\u001b[39m\u001b[39mlevel\u001b[39m\u001b[39m'\u001b[39m\u001b[39m\"\u001b[39m)\n\u001b[0;32m-> 7716\u001b[0m axis \u001b[39m=\u001b[39m \u001b[39mself\u001b[39;49m\u001b[39m.\u001b[39;49m_get_axis_number(axis)\n\u001b[1;32m   7718\u001b[0m \u001b[39m# https://github.com/python/mypy/issues/7642\u001b[39;00m\n\u001b[1;32m   7719\u001b[0m \u001b[39m# error: Argument \"squeeze\" to \"DataFrameGroupBy\" has incompatible type\u001b[39;00m\n\u001b[1;32m   7720\u001b[0m \u001b[39m# \"Union[bool, NoDefault]\"; expected \"bool\"\u001b[39;00m\n\u001b[1;32m   7721\u001b[0m \u001b[39mreturn\u001b[39;00m DataFrameGroupBy(\n\u001b[1;32m   7722\u001b[0m     obj\u001b[39m=\u001b[39m\u001b[39mself\u001b[39m,\n\u001b[1;32m   7723\u001b[0m     keys\u001b[39m=\u001b[39mby,\n\u001b[0;32m   (...)\u001b[0m\n\u001b[1;32m   7731\u001b[0m     dropna\u001b[39m=\u001b[39mdropna,\n\u001b[1;32m   7732\u001b[0m )\n",
      "File \u001b[0;32m~/opt/anaconda3/envs/ironhack/lib/python3.9/site-packages/pandas/core/generic.py:550\u001b[0m, in \u001b[0;36mNDFrame._get_axis_number\u001b[0;34m(cls, axis)\u001b[0m\n\u001b[1;32m    546\u001b[0m \u001b[39m@final\u001b[39m\n\u001b[1;32m    547\u001b[0m \u001b[39m@classmethod\u001b[39m\n\u001b[1;32m    548\u001b[0m \u001b[39mdef\u001b[39;00m \u001b[39m_get_axis_number\u001b[39m(\u001b[39mcls\u001b[39m, axis: Axis) \u001b[39m-\u001b[39m\u001b[39m>\u001b[39m \u001b[39mint\u001b[39m:\n\u001b[1;32m    549\u001b[0m     \u001b[39mtry\u001b[39;00m:\n\u001b[0;32m--> 550\u001b[0m         \u001b[39mreturn\u001b[39;00m \u001b[39mcls\u001b[39;49m\u001b[39m.\u001b[39;49m_AXIS_TO_AXIS_NUMBER[axis]\n\u001b[1;32m    551\u001b[0m     \u001b[39mexcept\u001b[39;00m \u001b[39mKeyError\u001b[39;00m:\n\u001b[1;32m    552\u001b[0m         \u001b[39mraise\u001b[39;00m \u001b[39mValueError\u001b[39;00m(\u001b[39mf\u001b[39m\u001b[39m\"\u001b[39m\u001b[39mNo axis named \u001b[39m\u001b[39m{\u001b[39;00maxis\u001b[39m}\u001b[39;00m\u001b[39m for object type \u001b[39m\u001b[39m{\u001b[39;00m\u001b[39mcls\u001b[39m\u001b[39m.\u001b[39m\u001b[39m__name__\u001b[39m\u001b[39m}\u001b[39;00m\u001b[39m\"\u001b[39m)\n",
      "\u001b[0;31mTypeError\u001b[0m: unhashable type: 'list'"
     ]
    }
   ],
   "source": [
    "data_yes = data5[data5[\"Fatal\"] == \"Y\"]\n",
    "data_no = data5[data5[\"Fatal\"] == \"N\"]\n",
    "\n",
    "#.crosstab\n",
    "\n",
    "data_merged = pd.merge(data_yes, data_no, how='outer')\n",
    "\n",
    "data_probability = data_merged.groupby(['Activity'], ['Fatal'])\n",
    "\n",
    "\n",
    "#  surfing_fatal / surfing_not_fatal = 47/306 = 0.2\n",
    "#  swimming_fatal / surfing_not_fatal = 155/338 = 0.5\n",
    "\n",
    "#  0.5/0.2 = 2.5x more likly to recive a fatal attack whilst swimming than surfing\n",
    "\n",
    "data_probability"
   ]
  },
  {
   "cell_type": "code",
   "execution_count": null,
   "metadata": {},
   "outputs": [],
   "source": []
  },
  {
   "cell_type": "code",
   "execution_count": 152,
   "metadata": {},
   "outputs": [
    {
     "data": {
      "text/plain": [
       "<bound method IndexOpsMixin.value_counts of 0       sailing\n",
       "1       swiming\n",
       "2       swiming\n",
       "3       swiming\n",
       "4       swiming\n",
       "         ...   \n",
       "1175    swiming\n",
       "1176    swiming\n",
       "1177    swiming\n",
       "1178    fishing\n",
       "1179    fishing\n",
       "Name: Activity, Length: 1180, dtype: object>"
      ]
     },
     "execution_count": 152,
     "metadata": {},
     "output_type": "execute_result"
    }
   ],
   "source": [
    "data5['Activity'].value_counts"
   ]
  },
  {
   "cell_type": "code",
   "execution_count": 153,
   "metadata": {},
   "outputs": [
    {
     "name": "stdout",
     "output_type": "stream",
     "text": [
      "PERCENTAGE OF ATTACKS WHILST SURFING:  19 %\n",
      "PERCENTAGE OF ATTACKS WHILST SWIMMING: 13 %\n",
      "PERCENTAGE OF ATTACKS WHILST KITESURFING: 0.03 %\n"
     ]
    }
   ],
   "source": [
    "#PERCENTAGE OF ATTACKS WHILST SURFING:\n",
    "probability_surfing_attack = 591/3192\n",
    "print('PERCENTAGE OF ATTACKS WHILST SURFING: ', round(probability_surfing_attack*100), '%')\n",
    "\n",
    "#PERCENTAGE OF ATTACKS WHILST SWIMMING:\n",
    "probability_swimming_attack = 404/3192   \n",
    "print('PERCENTAGE OF ATTACKS WHILST SWIMMING:', round(probability_swimming_attack*100), '%')\n",
    "\n",
    "#PERCENTAGE OF ATTACKS WHILST KITESURFING:\n",
    "probability_kitesurfing_attack = 1/3192 \n",
    "print('PERCENTAGE OF ATTACKS WHILST KITESURFING:', round(probability_kitesurfing_attack*100, 2), '%')"
   ]
  },
  {
   "cell_type": "code",
   "execution_count": null,
   "metadata": {},
   "outputs": [],
   "source": []
  },
  {
   "cell_type": "code",
   "execution_count": null,
   "metadata": {},
   "outputs": [],
   "source": []
  },
  {
   "attachments": {},
   "cell_type": "markdown",
   "metadata": {},
   "source": [
    "**Plots:**"
   ]
  },
  {
   "cell_type": "code",
   "execution_count": null,
   "metadata": {},
   "outputs": [],
   "source": [
    "#notes:\n",
    "#histogram - shark attacks against time\n",
    "# box plot\n",
    "# distplot for SD\n",
    "#pie chart - most agressive shark\n",
    "# line chart or histogram for probability of fatal attack whilst ..."
   ]
  },
  {
   "cell_type": "code",
   "execution_count": 154,
   "metadata": {},
   "outputs": [],
   "source": [
    "#PLOT TO SHOW THE RELATIONSHIP BETWEEN TIME AND FREQUENCY OF ATTACKS:\n",
    "\n",
    "import numpy as np\n",
    "import seaborn as sns\n",
    "import plotly.express as px\n"
   ]
  },
  {
   "cell_type": "code",
   "execution_count": 158,
   "metadata": {},
   "outputs": [
    {
     "data": {
      "application/vnd.plotly.v1+json": {
       "config": {
        "plotlyServerURL": "https://plot.ly"
       },
       "data": [
        {
         "alignmentgroup": "True",
         "bingroup": "x",
         "histfunc": "sum",
         "hovertemplate": "x=%{x}<br>sum of y=%{y}<extra></extra>",
         "legendgroup": "",
         "marker": {
          "color": "#636efa",
          "pattern": {
           "shape": ""
          }
         },
         "name": "",
         "nbinsx": 100,
         "offsetgroup": "",
         "orientation": "v",
         "showlegend": false,
         "type": "histogram",
         "x": [
          2015,
          2012,
          2017,
          2013,
          2004,
          2016,
          2011,
          2009,
          2005,
          2014,
          2008,
          2007,
          2000,
          2006,
          2002,
          1993,
          1999,
          1989,
          1959,
          2018,
          2010,
          1996,
          1992,
          1961,
          1960,
          2001,
          2003,
          1998,
          1997,
          1985,
          1964,
          1990,
          1991,
          1981,
          1994,
          1963,
          1995,
          1974,
          1956,
          1980,
          1958,
          1976,
          1950,
          1988,
          1984,
          1983,
          1982,
          1966,
          1986,
          1975,
          1971,
          1972,
          1977,
          1962,
          1942,
          1936,
          1953,
          1955,
          1987,
          1957,
          1967,
          1952,
          1951,
          1968,
          1979,
          1935,
          1934,
          1969,
          1938,
          1937,
          1939,
          1978,
          1926,
          1940,
          1965,
          1933,
          1930,
          1922,
          1970,
          1941,
          1944,
          1973,
          1916,
          1907,
          1947,
          1931,
          1949,
          1928,
          1943,
          1954,
          1905,
          1908,
          1912,
          1913,
          1914,
          1927,
          1918,
          1925,
          1929,
          1932,
          1948,
          1946,
          1945,
          1901
         ],
         "xaxis": "x",
         "y": [
          51,
          36,
          36,
          35,
          33,
          30,
          30,
          28,
          28,
          28,
          28,
          25,
          24,
          24,
          23,
          22,
          21,
          21,
          20,
          20,
          20,
          19,
          19,
          18,
          18,
          17,
          17,
          15,
          15,
          14,
          14,
          14,
          14,
          13,
          13,
          13,
          13,
          12,
          11,
          11,
          11,
          11,
          10,
          10,
          10,
          10,
          10,
          9,
          9,
          8,
          8,
          8,
          8,
          8,
          7,
          7,
          7,
          7,
          6,
          6,
          6,
          6,
          6,
          6,
          5,
          5,
          4,
          4,
          4,
          4,
          4,
          4,
          4,
          4,
          4,
          3,
          3,
          3,
          3,
          3,
          3,
          3,
          2,
          2,
          2,
          2,
          2,
          2,
          2,
          2,
          1,
          1,
          1,
          1,
          1,
          1,
          1,
          1,
          1,
          1,
          1,
          1,
          1,
          1
         ],
         "yaxis": "y"
        }
       ],
       "layout": {
        "barmode": "relative",
        "legend": {
         "tracegroupgap": 0
        },
        "margin": {
         "t": 60
        },
        "template": {
         "data": {
          "bar": [
           {
            "error_x": {
             "color": "#2a3f5f"
            },
            "error_y": {
             "color": "#2a3f5f"
            },
            "marker": {
             "line": {
              "color": "#E5ECF6",
              "width": 0.5
             },
             "pattern": {
              "fillmode": "overlay",
              "size": 10,
              "solidity": 0.2
             }
            },
            "type": "bar"
           }
          ],
          "barpolar": [
           {
            "marker": {
             "line": {
              "color": "#E5ECF6",
              "width": 0.5
             },
             "pattern": {
              "fillmode": "overlay",
              "size": 10,
              "solidity": 0.2
             }
            },
            "type": "barpolar"
           }
          ],
          "carpet": [
           {
            "aaxis": {
             "endlinecolor": "#2a3f5f",
             "gridcolor": "white",
             "linecolor": "white",
             "minorgridcolor": "white",
             "startlinecolor": "#2a3f5f"
            },
            "baxis": {
             "endlinecolor": "#2a3f5f",
             "gridcolor": "white",
             "linecolor": "white",
             "minorgridcolor": "white",
             "startlinecolor": "#2a3f5f"
            },
            "type": "carpet"
           }
          ],
          "choropleth": [
           {
            "colorbar": {
             "outlinewidth": 0,
             "ticks": ""
            },
            "type": "choropleth"
           }
          ],
          "contour": [
           {
            "colorbar": {
             "outlinewidth": 0,
             "ticks": ""
            },
            "colorscale": [
             [
              0,
              "#0d0887"
             ],
             [
              0.1111111111111111,
              "#46039f"
             ],
             [
              0.2222222222222222,
              "#7201a8"
             ],
             [
              0.3333333333333333,
              "#9c179e"
             ],
             [
              0.4444444444444444,
              "#bd3786"
             ],
             [
              0.5555555555555556,
              "#d8576b"
             ],
             [
              0.6666666666666666,
              "#ed7953"
             ],
             [
              0.7777777777777778,
              "#fb9f3a"
             ],
             [
              0.8888888888888888,
              "#fdca26"
             ],
             [
              1,
              "#f0f921"
             ]
            ],
            "type": "contour"
           }
          ],
          "contourcarpet": [
           {
            "colorbar": {
             "outlinewidth": 0,
             "ticks": ""
            },
            "type": "contourcarpet"
           }
          ],
          "heatmap": [
           {
            "colorbar": {
             "outlinewidth": 0,
             "ticks": ""
            },
            "colorscale": [
             [
              0,
              "#0d0887"
             ],
             [
              0.1111111111111111,
              "#46039f"
             ],
             [
              0.2222222222222222,
              "#7201a8"
             ],
             [
              0.3333333333333333,
              "#9c179e"
             ],
             [
              0.4444444444444444,
              "#bd3786"
             ],
             [
              0.5555555555555556,
              "#d8576b"
             ],
             [
              0.6666666666666666,
              "#ed7953"
             ],
             [
              0.7777777777777778,
              "#fb9f3a"
             ],
             [
              0.8888888888888888,
              "#fdca26"
             ],
             [
              1,
              "#f0f921"
             ]
            ],
            "type": "heatmap"
           }
          ],
          "heatmapgl": [
           {
            "colorbar": {
             "outlinewidth": 0,
             "ticks": ""
            },
            "colorscale": [
             [
              0,
              "#0d0887"
             ],
             [
              0.1111111111111111,
              "#46039f"
             ],
             [
              0.2222222222222222,
              "#7201a8"
             ],
             [
              0.3333333333333333,
              "#9c179e"
             ],
             [
              0.4444444444444444,
              "#bd3786"
             ],
             [
              0.5555555555555556,
              "#d8576b"
             ],
             [
              0.6666666666666666,
              "#ed7953"
             ],
             [
              0.7777777777777778,
              "#fb9f3a"
             ],
             [
              0.8888888888888888,
              "#fdca26"
             ],
             [
              1,
              "#f0f921"
             ]
            ],
            "type": "heatmapgl"
           }
          ],
          "histogram": [
           {
            "marker": {
             "pattern": {
              "fillmode": "overlay",
              "size": 10,
              "solidity": 0.2
             }
            },
            "type": "histogram"
           }
          ],
          "histogram2d": [
           {
            "colorbar": {
             "outlinewidth": 0,
             "ticks": ""
            },
            "colorscale": [
             [
              0,
              "#0d0887"
             ],
             [
              0.1111111111111111,
              "#46039f"
             ],
             [
              0.2222222222222222,
              "#7201a8"
             ],
             [
              0.3333333333333333,
              "#9c179e"
             ],
             [
              0.4444444444444444,
              "#bd3786"
             ],
             [
              0.5555555555555556,
              "#d8576b"
             ],
             [
              0.6666666666666666,
              "#ed7953"
             ],
             [
              0.7777777777777778,
              "#fb9f3a"
             ],
             [
              0.8888888888888888,
              "#fdca26"
             ],
             [
              1,
              "#f0f921"
             ]
            ],
            "type": "histogram2d"
           }
          ],
          "histogram2dcontour": [
           {
            "colorbar": {
             "outlinewidth": 0,
             "ticks": ""
            },
            "colorscale": [
             [
              0,
              "#0d0887"
             ],
             [
              0.1111111111111111,
              "#46039f"
             ],
             [
              0.2222222222222222,
              "#7201a8"
             ],
             [
              0.3333333333333333,
              "#9c179e"
             ],
             [
              0.4444444444444444,
              "#bd3786"
             ],
             [
              0.5555555555555556,
              "#d8576b"
             ],
             [
              0.6666666666666666,
              "#ed7953"
             ],
             [
              0.7777777777777778,
              "#fb9f3a"
             ],
             [
              0.8888888888888888,
              "#fdca26"
             ],
             [
              1,
              "#f0f921"
             ]
            ],
            "type": "histogram2dcontour"
           }
          ],
          "mesh3d": [
           {
            "colorbar": {
             "outlinewidth": 0,
             "ticks": ""
            },
            "type": "mesh3d"
           }
          ],
          "parcoords": [
           {
            "line": {
             "colorbar": {
              "outlinewidth": 0,
              "ticks": ""
             }
            },
            "type": "parcoords"
           }
          ],
          "pie": [
           {
            "automargin": true,
            "type": "pie"
           }
          ],
          "scatter": [
           {
            "fillpattern": {
             "fillmode": "overlay",
             "size": 10,
             "solidity": 0.2
            },
            "type": "scatter"
           }
          ],
          "scatter3d": [
           {
            "line": {
             "colorbar": {
              "outlinewidth": 0,
              "ticks": ""
             }
            },
            "marker": {
             "colorbar": {
              "outlinewidth": 0,
              "ticks": ""
             }
            },
            "type": "scatter3d"
           }
          ],
          "scattercarpet": [
           {
            "marker": {
             "colorbar": {
              "outlinewidth": 0,
              "ticks": ""
             }
            },
            "type": "scattercarpet"
           }
          ],
          "scattergeo": [
           {
            "marker": {
             "colorbar": {
              "outlinewidth": 0,
              "ticks": ""
             }
            },
            "type": "scattergeo"
           }
          ],
          "scattergl": [
           {
            "marker": {
             "colorbar": {
              "outlinewidth": 0,
              "ticks": ""
             }
            },
            "type": "scattergl"
           }
          ],
          "scattermapbox": [
           {
            "marker": {
             "colorbar": {
              "outlinewidth": 0,
              "ticks": ""
             }
            },
            "type": "scattermapbox"
           }
          ],
          "scatterpolar": [
           {
            "marker": {
             "colorbar": {
              "outlinewidth": 0,
              "ticks": ""
             }
            },
            "type": "scatterpolar"
           }
          ],
          "scatterpolargl": [
           {
            "marker": {
             "colorbar": {
              "outlinewidth": 0,
              "ticks": ""
             }
            },
            "type": "scatterpolargl"
           }
          ],
          "scatterternary": [
           {
            "marker": {
             "colorbar": {
              "outlinewidth": 0,
              "ticks": ""
             }
            },
            "type": "scatterternary"
           }
          ],
          "surface": [
           {
            "colorbar": {
             "outlinewidth": 0,
             "ticks": ""
            },
            "colorscale": [
             [
              0,
              "#0d0887"
             ],
             [
              0.1111111111111111,
              "#46039f"
             ],
             [
              0.2222222222222222,
              "#7201a8"
             ],
             [
              0.3333333333333333,
              "#9c179e"
             ],
             [
              0.4444444444444444,
              "#bd3786"
             ],
             [
              0.5555555555555556,
              "#d8576b"
             ],
             [
              0.6666666666666666,
              "#ed7953"
             ],
             [
              0.7777777777777778,
              "#fb9f3a"
             ],
             [
              0.8888888888888888,
              "#fdca26"
             ],
             [
              1,
              "#f0f921"
             ]
            ],
            "type": "surface"
           }
          ],
          "table": [
           {
            "cells": {
             "fill": {
              "color": "#EBF0F8"
             },
             "line": {
              "color": "white"
             }
            },
            "header": {
             "fill": {
              "color": "#C8D4E3"
             },
             "line": {
              "color": "white"
             }
            },
            "type": "table"
           }
          ]
         },
         "layout": {
          "annotationdefaults": {
           "arrowcolor": "#2a3f5f",
           "arrowhead": 0,
           "arrowwidth": 1
          },
          "autotypenumbers": "strict",
          "coloraxis": {
           "colorbar": {
            "outlinewidth": 0,
            "ticks": ""
           }
          },
          "colorscale": {
           "diverging": [
            [
             0,
             "#8e0152"
            ],
            [
             0.1,
             "#c51b7d"
            ],
            [
             0.2,
             "#de77ae"
            ],
            [
             0.3,
             "#f1b6da"
            ],
            [
             0.4,
             "#fde0ef"
            ],
            [
             0.5,
             "#f7f7f7"
            ],
            [
             0.6,
             "#e6f5d0"
            ],
            [
             0.7,
             "#b8e186"
            ],
            [
             0.8,
             "#7fbc41"
            ],
            [
             0.9,
             "#4d9221"
            ],
            [
             1,
             "#276419"
            ]
           ],
           "sequential": [
            [
             0,
             "#0d0887"
            ],
            [
             0.1111111111111111,
             "#46039f"
            ],
            [
             0.2222222222222222,
             "#7201a8"
            ],
            [
             0.3333333333333333,
             "#9c179e"
            ],
            [
             0.4444444444444444,
             "#bd3786"
            ],
            [
             0.5555555555555556,
             "#d8576b"
            ],
            [
             0.6666666666666666,
             "#ed7953"
            ],
            [
             0.7777777777777778,
             "#fb9f3a"
            ],
            [
             0.8888888888888888,
             "#fdca26"
            ],
            [
             1,
             "#f0f921"
            ]
           ],
           "sequentialminus": [
            [
             0,
             "#0d0887"
            ],
            [
             0.1111111111111111,
             "#46039f"
            ],
            [
             0.2222222222222222,
             "#7201a8"
            ],
            [
             0.3333333333333333,
             "#9c179e"
            ],
            [
             0.4444444444444444,
             "#bd3786"
            ],
            [
             0.5555555555555556,
             "#d8576b"
            ],
            [
             0.6666666666666666,
             "#ed7953"
            ],
            [
             0.7777777777777778,
             "#fb9f3a"
            ],
            [
             0.8888888888888888,
             "#fdca26"
            ],
            [
             1,
             "#f0f921"
            ]
           ]
          },
          "colorway": [
           "#636efa",
           "#EF553B",
           "#00cc96",
           "#ab63fa",
           "#FFA15A",
           "#19d3f3",
           "#FF6692",
           "#B6E880",
           "#FF97FF",
           "#FECB52"
          ],
          "font": {
           "color": "#2a3f5f"
          },
          "geo": {
           "bgcolor": "white",
           "lakecolor": "white",
           "landcolor": "#E5ECF6",
           "showlakes": true,
           "showland": true,
           "subunitcolor": "white"
          },
          "hoverlabel": {
           "align": "left"
          },
          "hovermode": "closest",
          "mapbox": {
           "style": "light"
          },
          "paper_bgcolor": "white",
          "plot_bgcolor": "#E5ECF6",
          "polar": {
           "angularaxis": {
            "gridcolor": "white",
            "linecolor": "white",
            "ticks": ""
           },
           "bgcolor": "#E5ECF6",
           "radialaxis": {
            "gridcolor": "white",
            "linecolor": "white",
            "ticks": ""
           }
          },
          "scene": {
           "xaxis": {
            "backgroundcolor": "#E5ECF6",
            "gridcolor": "white",
            "gridwidth": 2,
            "linecolor": "white",
            "showbackground": true,
            "ticks": "",
            "zerolinecolor": "white"
           },
           "yaxis": {
            "backgroundcolor": "#E5ECF6",
            "gridcolor": "white",
            "gridwidth": 2,
            "linecolor": "white",
            "showbackground": true,
            "ticks": "",
            "zerolinecolor": "white"
           },
           "zaxis": {
            "backgroundcolor": "#E5ECF6",
            "gridcolor": "white",
            "gridwidth": 2,
            "linecolor": "white",
            "showbackground": true,
            "ticks": "",
            "zerolinecolor": "white"
           }
          },
          "shapedefaults": {
           "line": {
            "color": "#2a3f5f"
           }
          },
          "ternary": {
           "aaxis": {
            "gridcolor": "white",
            "linecolor": "white",
            "ticks": ""
           },
           "baxis": {
            "gridcolor": "white",
            "linecolor": "white",
            "ticks": ""
           },
           "bgcolor": "#E5ECF6",
           "caxis": {
            "gridcolor": "white",
            "linecolor": "white",
            "ticks": ""
           }
          },
          "title": {
           "x": 0.05
          },
          "xaxis": {
           "automargin": true,
           "gridcolor": "white",
           "linecolor": "white",
           "ticks": "",
           "title": {
            "standoff": 15
           },
           "zerolinecolor": "white",
           "zerolinewidth": 2
          },
          "yaxis": {
           "automargin": true,
           "gridcolor": "white",
           "linecolor": "white",
           "ticks": "",
           "title": {
            "standoff": 15
           },
           "zerolinecolor": "white",
           "zerolinewidth": 2
          }
         }
        },
        "xaxis": {
         "anchor": "y",
         "domain": [
          0,
          1
         ],
         "title": {
          "text": "x"
         }
        },
        "yaxis": {
         "anchor": "x",
         "domain": [
          0,
          1
         ],
         "title": {
          "text": "sum of y"
         }
        }
       }
      }
     },
     "metadata": {},
     "output_type": "display_data"
    }
   ],
   "source": [
    "#Histagram to show the positive correlation between 'Time' and 'Frequency of Attacks':\n",
    "data_plot1 = data5[data5['Year'] > 1900]\n",
    "fig = px.histogram(x=list(data_plot1['Year'].value_counts().index), y=list(data_plot1['Year'].value_counts().values), nbins = 100,) \n",
    "fig.show()"
   ]
  },
  {
   "cell_type": "code",
   "execution_count": null,
   "metadata": {},
   "outputs": [
    {
     "data": {
      "text/plain": [
       "<AxesSubplot: ylabel='Activity'>"
      ]
     },
     "execution_count": 134,
     "metadata": {},
     "output_type": "execute_result"
    },
    {
     "data": {
      "image/png": "[encoded data removed]",
      "text/plain": [
       "<Figure size 432x288 with 1 Axes>"
      ]
     },
     "metadata": {},
     "output_type": "display_data"
    }
   ],
   "source": [
    "#Pie chart to show the attacks during activities.\n",
    "#most occur whilst swimming (42.4%).\n",
    "\n",
    "data_probability = data_merged['Activity'].value_counts()\n",
    "data_probability.plot.pie(autopct=\"%.1f%%\")"
   ]
  }
 ],
 "metadata": {
  "finalized": {
   "timestamp": 1619446289233,
   "trusted": true
  },
  "kernelspec": {
   "display_name": "ironhack",
   "language": "python",
   "name": "python3"
  },
  "language_info": {
   "codemirror_mode": {
    "name": "ipython",
    "version": 3
   },
   "file_extension": ".py",
   "mimetype": "text/x-python",
   "name": "python",
   "nbconvert_exporter": "python",
   "pygments_lexer": "ipython3",
   "version": "3.9.12"
  },
  "nbTranslate": {
   "displayLangs": [],
   "hotkey": "alt-t",
   "langInMainMenu": true,
   "sourceLang": "es",
   "targetLang": "en",
   "useGoogleTranslate": true
  },
  "toc": {
   "base_numbering": 1,
   "nav_menu": {},
   "number_sections": true,
   "sideBar": true,
   "skip_h1_title": true,
   "title_cell": "Table of Contents",
   "title_sidebar": "Contents",
   "toc_cell": true,
   "toc_position": {
    "height": "calc(100% - 180px)",
    "left": "10px",
    "top": "150px",
    "width": "196px"
   },
   "toc_section_display": true,
   "toc_window_display": true
  },
  "varInspector": {
   "cols": {
    "lenName": 16,
    "lenType": 16,
    "lenVar": 40
   },
   "kernels_config": {
    "python": {
     "delete_cmd_postfix": "",
     "delete_cmd_prefix": "del ",
     "library": "var_list.py",
     "varRefreshCmd": "print(var_dic_list())"
    },
    "r": {
     "delete_cmd_postfix": ") ",
     "delete_cmd_prefix": "rm(",
     "library": "var_list.r",
     "varRefreshCmd": "cat(var_dic_list()) "
    }
   },
   "types_to_exclude": [
    "module",
    "function",
    "builtin_function_or_method",
    "instance",
    "_Feature"
   ],
   "window_display": false
  },
  "vscode": {
   "interpreter": {
    "hash": "82abc7b490bdca0a0926c123976b296da33c0333d87d0021eb92d39b0b4d3cac"
   }
  }
 },
 "nbformat": 4,
 "nbformat_minor": 4
}
